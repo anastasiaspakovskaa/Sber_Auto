{
 "cells": [
  {
   "cell_type": "code",
   "execution_count": null,
   "id": "148d051f-8f9a-4bd5-8435-09df35022f65",
   "metadata": {},
   "outputs": [],
   "source": [
    "import pandas as pd\n",
    "import matplotlib.pyplot as plt\n",
    "import seaborn as sns\n",
    "import missingno as msno"
   ]
  },
  {
   "cell_type": "markdown",
   "id": "482814c6-85d8-4ab8-bb0c-5e855e0e127b",
   "metadata": {},
   "source": [
    "# Загрузка данных"
   ]
  },
  {
   "cell_type": "code",
   "execution_count": null,
   "id": "14294730-1d48-4779-8992-e0e455c5b2cc",
   "metadata": {},
   "outputs": [],
   "source": [
    "sessions_df = pd.read_csv('data/ga_sessions.csv', low_memory=False)"
   ]
  },
  {
   "cell_type": "code",
   "execution_count": null,
   "id": "1d7774ed-e0d6-4919-ae73-5885a6af9b5e",
   "metadata": {},
   "outputs": [],
   "source": [
    "sessions_df.head()"
   ]
  },
  {
   "cell_type": "code",
   "execution_count": null,
   "id": "72d457f7-c8e6-4f1d-b694-2271c3e147b6",
   "metadata": {},
   "outputs": [],
   "source": [
    "sessions_df.shape"
   ]
  },
  {
   "cell_type": "markdown",
   "id": "29c89d5e-dbaa-432d-833c-97adfdbfb77e",
   "metadata": {},
   "source": [
    "# Разведочный анализ"
   ]
  },
  {
   "cell_type": "code",
   "execution_count": null,
   "id": "a75dc6e4-2fdb-4160-9bfb-0c9a27fec619",
   "metadata": {},
   "outputs": [],
   "source": []
  }
 ],
 "metadata": {
  "kernelspec": {
   "display_name": "Python 3 (ipykernel)",
   "language": "python",
   "name": "python3"
  },
  "language_info": {
   "codemirror_mode": {
    "name": "ipython",
    "version": 3
   },
   "file_extension": ".py",
   "mimetype": "text/x-python",
   "name": "python",
   "nbconvert_exporter": "python",
   "pygments_lexer": "ipython3",
   "version": "3.9.12"
  }
 },
 "nbformat": 4,
 "nbformat_minor": 5
}
