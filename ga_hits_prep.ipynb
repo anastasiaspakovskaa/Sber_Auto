{
 "cells": [
  {
   "cell_type": "code",
   "execution_count": 32,
   "id": "065c0ebb-0901-44f6-a078-d9b9fcaf0e73",
   "metadata": {},
   "outputs": [],
   "source": [
    "import pandas as pd\n",
    "import seaborn as sns\n",
    "import missingno as msno\n",
    "\n",
    "from urllib.parse import urlparse\n",
    "import matplotlib.pyplot as plt"
   ]
  },
  {
   "cell_type": "markdown",
   "id": "e15ddf27-c733-45f6-a81f-38d016314e8d",
   "metadata": {
    "tags": []
   },
   "source": [
    "### Действия для ga_hits\n",
    "\n",
    "- удалить event_value (пустой), hit_type (все значения одинаковые)\n",
    "- заполнить пропуски hit_time средним значением\n",
    "- заполнить пропуски event_label модой\n",
    "- заполнить пропуски hit_referer модой\n",
    "- hit_date to datetime\n",
    "- заменить выбросы на граничные значения (hit_time, hit_number)\n",
    "- создать столбцы с номерами месяцев и дней, удалить hit_date\n",
    "- добавить столбец domain, заменить значения с количеством меньше 1000 на other\n",
    "- добавить столбцы path, query\n",
    "- удалить hit_page_path"
   ]
  },
  {
   "cell_type": "markdown",
   "id": "fb80e049-694f-4934-9724-9505460626d8",
   "metadata": {
    "tags": []
   },
   "source": [
    "# Загрузка данных"
   ]
  },
  {
   "cell_type": "code",
   "execution_count": 2,
   "id": "3edf4179-5407-49ce-a4d9-95588adba5c2",
   "metadata": {},
   "outputs": [],
   "source": [
    "step = 3\n",
    "hits_df = pd.read_csv('data/ga_hits.csv', skiprows=lambda x: x % step != 0) \n",
    "# всего 15 726 470 строк "
   ]
  },
  {
   "cell_type": "code",
   "execution_count": 3,
   "id": "3c7ba2fd-c115-4e19-b730-0880b436b50f",
   "metadata": {},
   "outputs": [
    {
     "data": {
      "text/html": [
       "<div>\n",
       "<style scoped>\n",
       "    .dataframe tbody tr th:only-of-type {\n",
       "        vertical-align: middle;\n",
       "    }\n",
       "\n",
       "    .dataframe tbody tr th {\n",
       "        vertical-align: top;\n",
       "    }\n",
       "\n",
       "    .dataframe thead th {\n",
       "        text-align: right;\n",
       "    }\n",
       "</style>\n",
       "<table border=\"1\" class=\"dataframe\">\n",
       "  <thead>\n",
       "    <tr style=\"text-align: right;\">\n",
       "      <th></th>\n",
       "      <th>session_id</th>\n",
       "      <th>hit_date</th>\n",
       "      <th>hit_time</th>\n",
       "      <th>hit_number</th>\n",
       "      <th>hit_type</th>\n",
       "      <th>hit_referer</th>\n",
       "      <th>hit_page_path</th>\n",
       "      <th>event_category</th>\n",
       "      <th>event_action</th>\n",
       "      <th>event_label</th>\n",
       "      <th>event_value</th>\n",
       "    </tr>\n",
       "  </thead>\n",
       "  <tbody>\n",
       "    <tr>\n",
       "      <th>0</th>\n",
       "      <td>885342191847998240.1640235807.1640235807</td>\n",
       "      <td>2021-12-23</td>\n",
       "      <td>796252.0</td>\n",
       "      <td>49</td>\n",
       "      <td>event</td>\n",
       "      <td>NaN</td>\n",
       "      <td>sberauto.com/cars/all/volkswagen/polo/e994838f...</td>\n",
       "      <td>quiz</td>\n",
       "      <td>quiz_show</td>\n",
       "      <td>NaN</td>\n",
       "      <td>NaN</td>\n",
       "    </tr>\n",
       "    <tr>\n",
       "      <th>1</th>\n",
       "      <td>6466333295973247896.1640246168.1640246168</td>\n",
       "      <td>2021-12-23</td>\n",
       "      <td>704194.0</td>\n",
       "      <td>41</td>\n",
       "      <td>event</td>\n",
       "      <td>NaN</td>\n",
       "      <td>sberauto.com/cars?utm_source_initial=youtube&amp;u...</td>\n",
       "      <td>quiz</td>\n",
       "      <td>quiz_show</td>\n",
       "      <td>NaN</td>\n",
       "      <td>NaN</td>\n",
       "    </tr>\n",
       "    <tr>\n",
       "      <th>2</th>\n",
       "      <td>555009234841130092.1640256620.1640256620</td>\n",
       "      <td>2021-12-23</td>\n",
       "      <td>1013899.0</td>\n",
       "      <td>101</td>\n",
       "      <td>event</td>\n",
       "      <td>VloVXNWduHeTjUoDkjkO</td>\n",
       "      <td>sberauto.com/cars/all/kia/sorento/c38179cb?utm...</td>\n",
       "      <td>quiz</td>\n",
       "      <td>quiz_show</td>\n",
       "      <td>NaN</td>\n",
       "      <td>NaN</td>\n",
       "    </tr>\n",
       "    <tr>\n",
       "      <th>3</th>\n",
       "      <td>4555345648396008371.1640233907.1640233907</td>\n",
       "      <td>2021-12-23</td>\n",
       "      <td>107.0</td>\n",
       "      <td>4</td>\n",
       "      <td>event</td>\n",
       "      <td>trXmoxcphNjuYcShOXwL</td>\n",
       "      <td>sberauto.com/cars/all/nissan/qashqai/bfc21661?...</td>\n",
       "      <td>card_web</td>\n",
       "      <td>view_card</td>\n",
       "      <td>NaN</td>\n",
       "      <td>NaN</td>\n",
       "    </tr>\n",
       "    <tr>\n",
       "      <th>4</th>\n",
       "      <td>9063469723165129646.1640233902.1640233902</td>\n",
       "      <td>2021-12-23</td>\n",
       "      <td>68.0</td>\n",
       "      <td>3</td>\n",
       "      <td>event</td>\n",
       "      <td>uMnMdxLOIznakHyXLoMC</td>\n",
       "      <td>sberauto.com/cars/all/skoda/rapid/bf24b977?ren...</td>\n",
       "      <td>card_web</td>\n",
       "      <td>view_card</td>\n",
       "      <td>NaN</td>\n",
       "      <td>NaN</td>\n",
       "    </tr>\n",
       "  </tbody>\n",
       "</table>\n",
       "</div>"
      ],
      "text/plain": [
       "                                  session_id    hit_date   hit_time  \\\n",
       "0   885342191847998240.1640235807.1640235807  2021-12-23   796252.0   \n",
       "1  6466333295973247896.1640246168.1640246168  2021-12-23   704194.0   \n",
       "2   555009234841130092.1640256620.1640256620  2021-12-23  1013899.0   \n",
       "3  4555345648396008371.1640233907.1640233907  2021-12-23      107.0   \n",
       "4  9063469723165129646.1640233902.1640233902  2021-12-23       68.0   \n",
       "\n",
       "   hit_number hit_type           hit_referer  \\\n",
       "0          49    event                   NaN   \n",
       "1          41    event                   NaN   \n",
       "2         101    event  VloVXNWduHeTjUoDkjkO   \n",
       "3           4    event  trXmoxcphNjuYcShOXwL   \n",
       "4           3    event  uMnMdxLOIznakHyXLoMC   \n",
       "\n",
       "                                       hit_page_path event_category  \\\n",
       "0  sberauto.com/cars/all/volkswagen/polo/e994838f...           quiz   \n",
       "1  sberauto.com/cars?utm_source_initial=youtube&u...           quiz   \n",
       "2  sberauto.com/cars/all/kia/sorento/c38179cb?utm...           quiz   \n",
       "3  sberauto.com/cars/all/nissan/qashqai/bfc21661?...       card_web   \n",
       "4  sberauto.com/cars/all/skoda/rapid/bf24b977?ren...       card_web   \n",
       "\n",
       "  event_action event_label  event_value  \n",
       "0    quiz_show         NaN          NaN  \n",
       "1    quiz_show         NaN          NaN  \n",
       "2    quiz_show         NaN          NaN  \n",
       "3    view_card         NaN          NaN  \n",
       "4    view_card         NaN          NaN  "
      ]
     },
     "execution_count": 3,
     "metadata": {},
     "output_type": "execute_result"
    }
   ],
   "source": [
    "hits_df.head()"
   ]
  },
  {
   "cell_type": "code",
   "execution_count": 4,
   "id": "579c8b95-7208-4c9a-a42a-209d00f32865",
   "metadata": {},
   "outputs": [
    {
     "data": {
      "text/plain": [
       "(5242156, 11)"
      ]
     },
     "execution_count": 4,
     "metadata": {},
     "output_type": "execute_result"
    }
   ],
   "source": [
    "hits_df.shape"
   ]
  },
  {
   "cell_type": "markdown",
   "id": "c0ec0d01-40ff-43b9-9eb1-96645706acbd",
   "metadata": {},
   "source": [
    "# Разведочный анализ"
   ]
  },
  {
   "cell_type": "markdown",
   "id": "1ee46c05-05f2-41a5-8da7-33e488f0586a",
   "metadata": {},
   "source": [
    "Целевая переменная - event_action"
   ]
  },
  {
   "cell_type": "markdown",
   "id": "0a949e53-50aa-4d95-99cd-82e171bb5ef8",
   "metadata": {
    "jp-MarkdownHeadingCollapsed": true,
    "tags": []
   },
   "source": [
    "## Data cleaning"
   ]
  },
  {
   "cell_type": "code",
   "execution_count": 5,
   "id": "3fdac6a4-a49e-4988-9874-41590d8b76cc",
   "metadata": {},
   "outputs": [
    {
     "data": {
      "text/plain": [
       "<AxesSubplot:>"
      ]
     },
     "execution_count": 5,
     "metadata": {},
     "output_type": "execute_result"
    },
    {
     "data": {
      "image/png": "[encoded data removed]",
      "text/plain": [
       "<Figure size 1800x720 with 2 Axes>"
      ]
     },
     "metadata": {
      "needs_background": "light"
     },
     "output_type": "display_data"
    }
   ],
   "source": [
    "msno.matrix(hits_df)"
   ]
  },
  {
   "cell_type": "code",
   "execution_count": 6,
   "id": "95d8f168-beb4-455c-9a6a-4f7fa1903156",
   "metadata": {},
   "outputs": [],
   "source": [
    "hits_new = hits_df.copy()"
   ]
  },
  {
   "cell_type": "code",
   "execution_count": 7,
   "id": "f569d599-41ee-4133-9931-1ca89fb14efd",
   "metadata": {},
   "outputs": [
    {
     "data": {
      "text/plain": [
       "event    5242156\n",
       "Name: hit_type, dtype: int64"
      ]
     },
     "execution_count": 7,
     "metadata": {},
     "output_type": "execute_result"
    }
   ],
   "source": [
    "hits_new['hit_type'].value_counts()"
   ]
  },
  {
   "cell_type": "code",
   "execution_count": 8,
   "id": "945be491-cc48-4477-8dd4-c927ba853276",
   "metadata": {},
   "outputs": [],
   "source": [
    "# event_value полностью пуст, удаляем\n",
    "# все значения hit_type однинаковые, удаляем\n",
    "\n",
    "hits_new = hits_new.drop(['event_value', 'hit_type'], axis=1)"
   ]
  },
  {
   "cell_type": "code",
   "execution_count": 9,
   "id": "8c98f910-48f3-4c81-a996-6de379b89cfd",
   "metadata": {},
   "outputs": [],
   "source": [
    "# процент пропущенных значений\n",
    "def missing_values(df):\n",
    "    return ((df.isna().sum() / len(df)) * 100).sort_values()"
   ]
  },
  {
   "cell_type": "code",
   "execution_count": 10,
   "id": "2d4d078b-e56d-4c93-b6cc-7fbf3aab1373",
   "metadata": {},
   "outputs": [
    {
     "data": {
      "text/plain": [
       "session_id         0.000000\n",
       "hit_date           0.000000\n",
       "hit_number         0.000000\n",
       "hit_page_path      0.000000\n",
       "event_category     0.000000\n",
       "event_action       0.000000\n",
       "event_label       23.910334\n",
       "hit_referer       39.903162\n",
       "hit_time          58.246798\n",
       "dtype: float64"
      ]
     },
     "execution_count": 10,
     "metadata": {},
     "output_type": "execute_result"
    }
   ],
   "source": [
    "missing_values(hits_new)"
   ]
  },
  {
   "cell_type": "markdown",
   "id": "6395a7ec-397c-414d-a903-4798343b9159",
   "metadata": {
    "tags": []
   },
   "source": [
    "### Hit_time"
   ]
  },
  {
   "cell_type": "code",
   "execution_count": 11,
   "id": "9723a817-85e1-43e1-9d15-fc770044e8e5",
   "metadata": {},
   "outputs": [
    {
     "data": {
      "text/plain": [
       "(array([2.135869e+06, 4.302900e+04, 6.917000e+03, 1.893000e+03,\n",
       "        6.450000e+02, 2.230000e+02, 9.400000e+01, 4.900000e+01,\n",
       "        3.500000e+01, 1.400000e+01]),\n",
       " array([       0. ,  1315688.3,  2631376.6,  3947064.9,  5262753.2,\n",
       "         6578441.5,  7894129.8,  9209818.1, 10525506.4, 11841194.7,\n",
       "        13156883. ]),\n",
       " <BarContainer object of 10 artists>)"
      ]
     },
     "execution_count": 11,
     "metadata": {},
     "output_type": "execute_result"
    },
    {
     "data": {
      "image/png": "[encoded data removed]",
      "text/plain": [
       "<Figure size 432x288 with 1 Axes>"
      ]
     },
     "metadata": {
      "needs_background": "light"
     },
     "output_type": "display_data"
    }
   ],
   "source": [
    "plt.hist(hits_new['hit_time'])"
   ]
  },
  {
   "cell_type": "code",
   "execution_count": 12,
   "id": "748f1eb9-74df-4bcb-9882-e83df7a2a920",
   "metadata": {},
   "outputs": [
    {
     "data": {
      "text/plain": [
       "0.0          13576\n",
       "1.0           6117\n",
       "2.0           3314\n",
       "3.0           2008\n",
       "4.0           1501\n",
       "             ...  \n",
       "486903.0         1\n",
       "1153840.0        1\n",
       "1466332.0        1\n",
       "453430.0         1\n",
       "2172865.0        1\n",
       "Name: hit_time, Length: 582924, dtype: int64"
      ]
     },
     "execution_count": 12,
     "metadata": {},
     "output_type": "execute_result"
    }
   ],
   "source": [
    "hits_new['hit_time'].value_counts()"
   ]
  },
  {
   "cell_type": "code",
   "execution_count": 13,
   "id": "54e5b4a3-69a1-41a4-8e7c-dba3131233a8",
   "metadata": {},
   "outputs": [
    {
     "data": {
      "text/plain": [
       "209328.07916325532"
      ]
     },
     "execution_count": 13,
     "metadata": {},
     "output_type": "execute_result"
    }
   ],
   "source": [
    "hits_new['hit_time'].mean()"
   ]
  },
  {
   "cell_type": "code",
   "execution_count": 14,
   "id": "f38566bf-76fd-4a39-978e-d0f35dd16e3a",
   "metadata": {},
   "outputs": [],
   "source": [
    "# заполним пропуски средним значением\n",
    "hits_new['hit_time'] = hits_new['hit_time'].fillna(hits_new['hit_time'].mean())"
   ]
  },
  {
   "cell_type": "markdown",
   "id": "bacae73b-4be2-4f09-8646-3eec58f784d6",
   "metadata": {
    "tags": []
   },
   "source": [
    "### Event_label"
   ]
  },
  {
   "cell_type": "code",
   "execution_count": 15,
   "id": "19b4e9e6-87a0-4c11-bbb4-d543a9e6129c",
   "metadata": {},
   "outputs": [
    {
     "data": {
      "text/plain": [
       "KclpemfoHstknWHFiLit    2168454\n",
       "hAHqGICPFQiPwtzubOzs     428346\n",
       "OHfyUfDKdPgBdvelDlfG     208731\n",
       "pzAKUYdRKNEUXxxBFUPX     119498\n",
       "ghOrjqpgskpGHSFfBBsi     114090\n",
       "                         ...   \n",
       "aDWkTuyIexNGAQfWnDlJ          1\n",
       "zdAZMCPStPvGvEsLGpUG          1\n",
       "vArAYanGPQaroLUkrQQW          1\n",
       "eFPwPmKhDcnlAKffPvHw          1\n",
       "zCMGPrpNkfsTcYWqMUzJ          1\n",
       "Name: event_label, Length: 20173, dtype: int64"
      ]
     },
     "execution_count": 15,
     "metadata": {},
     "output_type": "execute_result"
    }
   ],
   "source": [
    "hits_new['event_label'].value_counts()"
   ]
  },
  {
   "cell_type": "code",
   "execution_count": 16,
   "id": "caf0dc96-63dd-424c-8a28-298f4baeff85",
   "metadata": {},
   "outputs": [],
   "source": [
    "# заполним пропуски модой\n",
    "hits_new['event_label'] = hits_new['event_label'].fillna(hits_new['event_label'].mode().iloc[0])"
   ]
  },
  {
   "cell_type": "markdown",
   "id": "ddadaf14-7d3f-4b36-b5af-8d22f5f2f6b5",
   "metadata": {
    "tags": []
   },
   "source": [
    "### Hit_referer "
   ]
  },
  {
   "cell_type": "code",
   "execution_count": 17,
   "id": "a1d567bc-13fc-4bd6-9577-3261943da75f",
   "metadata": {},
   "outputs": [
    {
     "data": {
      "text/plain": [
       "HbolMJUevblAbkHClEQa    2959840\n",
       "FwdMTcXzWAwhtsnMAbhS      30548\n",
       "sAGDBCdeVPmQPwkVEcIX      17729\n",
       "GQmOLxANuSeCxCanBpMl      11790\n",
       "ZeRnFrHdnMmnqraghdGJ       7672\n",
       "                         ...   \n",
       "BpAykXrUhrVvaLVxDsLI          1\n",
       "xXkCApdVuppgaAGHtBkD          1\n",
       "kGoDnujCfppPFmrbwMLF          1\n",
       "CtfEJTPRMsUzvEilqSOC          1\n",
       "tvGabHlPFDvTmIFiCKTL          1\n",
       "Name: hit_referer, Length: 23389, dtype: int64"
      ]
     },
     "execution_count": 17,
     "metadata": {},
     "output_type": "execute_result"
    }
   ],
   "source": [
    "hits_new['hit_referer'].value_counts()"
   ]
  },
  {
   "cell_type": "code",
   "execution_count": 18,
   "id": "2b6bca61-c37e-435e-940f-8010a9ff1605",
   "metadata": {},
   "outputs": [],
   "source": [
    "# заполним пропуски модой\n",
    "hits_new['hit_referer'] = hits_new['hit_referer'].fillna(hits_new['hit_referer'].mode().iloc[0])"
   ]
  },
  {
   "cell_type": "markdown",
   "id": "4d6266f2-673f-4885-818b-ef0abcbf2808",
   "metadata": {
    "tags": []
   },
   "source": [
    "### Проверка"
   ]
  },
  {
   "cell_type": "code",
   "execution_count": 19,
   "id": "0c8341e3-0d58-4d32-aeab-5f4e44970e8a",
   "metadata": {},
   "outputs": [
    {
     "data": {
      "text/plain": [
       "session_id        0.0\n",
       "hit_date          0.0\n",
       "hit_time          0.0\n",
       "hit_number        0.0\n",
       "hit_referer       0.0\n",
       "hit_page_path     0.0\n",
       "event_category    0.0\n",
       "event_action      0.0\n",
       "event_label       0.0\n",
       "dtype: float64"
      ]
     },
     "execution_count": 19,
     "metadata": {},
     "output_type": "execute_result"
    }
   ],
   "source": [
    "missing_values(hits_new)"
   ]
  },
  {
   "cell_type": "code",
   "execution_count": 22,
   "id": "87c36f1f-b2d8-4e67-89f6-b3b9cd9d62a7",
   "metadata": {},
   "outputs": [],
   "source": [
    "# сохраним получившийся датасет\n",
    "\n",
    "hits_new.to_csv('data/ga_hits(2.0).csv', index=False)"
   ]
  },
  {
   "cell_type": "markdown",
   "id": "5a27229f-fcd6-4f3d-b040-b8090c0a7490",
   "metadata": {
    "jp-MarkdownHeadingCollapsed": true,
    "tags": []
   },
   "source": [
    "## Приведение типов"
   ]
  },
  {
   "cell_type": "code",
   "execution_count": 3,
   "id": "1d0c134b-972a-4809-b956-977af4928536",
   "metadata": {},
   "outputs": [],
   "source": [
    "hits = pd.read_csv('data/ga_hits(2.0).csv')"
   ]
  },
  {
   "cell_type": "code",
   "execution_count": 6,
   "id": "08a55e9f-9fa1-419a-a7a8-89bdeb2efe50",
   "metadata": {},
   "outputs": [
    {
     "data": {
      "text/html": [
       "<div>\n",
       "<style scoped>\n",
       "    .dataframe tbody tr th:only-of-type {\n",
       "        vertical-align: middle;\n",
       "    }\n",
       "\n",
       "    .dataframe tbody tr th {\n",
       "        vertical-align: top;\n",
       "    }\n",
       "\n",
       "    .dataframe thead th {\n",
       "        text-align: right;\n",
       "    }\n",
       "</style>\n",
       "<table border=\"1\" class=\"dataframe\">\n",
       "  <thead>\n",
       "    <tr style=\"text-align: right;\">\n",
       "      <th></th>\n",
       "      <th>session_id</th>\n",
       "      <th>hit_date</th>\n",
       "      <th>hit_time</th>\n",
       "      <th>hit_number</th>\n",
       "      <th>hit_referer</th>\n",
       "      <th>hit_page_path</th>\n",
       "      <th>event_category</th>\n",
       "      <th>event_action</th>\n",
       "      <th>event_label</th>\n",
       "    </tr>\n",
       "  </thead>\n",
       "  <tbody>\n",
       "    <tr>\n",
       "      <th>0</th>\n",
       "      <td>885342191847998240.1640235807.1640235807</td>\n",
       "      <td>2021-12-23</td>\n",
       "      <td>796252.0</td>\n",
       "      <td>49</td>\n",
       "      <td>HbolMJUevblAbkHClEQa</td>\n",
       "      <td>sberauto.com/cars/all/volkswagen/polo/e994838f...</td>\n",
       "      <td>quiz</td>\n",
       "      <td>quiz_show</td>\n",
       "      <td>KclpemfoHstknWHFiLit</td>\n",
       "    </tr>\n",
       "    <tr>\n",
       "      <th>1</th>\n",
       "      <td>6466333295973247896.1640246168.1640246168</td>\n",
       "      <td>2021-12-23</td>\n",
       "      <td>704194.0</td>\n",
       "      <td>41</td>\n",
       "      <td>HbolMJUevblAbkHClEQa</td>\n",
       "      <td>sberauto.com/cars?utm_source_initial=youtube&amp;u...</td>\n",
       "      <td>quiz</td>\n",
       "      <td>quiz_show</td>\n",
       "      <td>KclpemfoHstknWHFiLit</td>\n",
       "    </tr>\n",
       "    <tr>\n",
       "      <th>2</th>\n",
       "      <td>555009234841130092.1640256620.1640256620</td>\n",
       "      <td>2021-12-23</td>\n",
       "      <td>1013899.0</td>\n",
       "      <td>101</td>\n",
       "      <td>VloVXNWduHeTjUoDkjkO</td>\n",
       "      <td>sberauto.com/cars/all/kia/sorento/c38179cb?utm...</td>\n",
       "      <td>quiz</td>\n",
       "      <td>quiz_show</td>\n",
       "      <td>KclpemfoHstknWHFiLit</td>\n",
       "    </tr>\n",
       "    <tr>\n",
       "      <th>3</th>\n",
       "      <td>4555345648396008371.1640233907.1640233907</td>\n",
       "      <td>2021-12-23</td>\n",
       "      <td>107.0</td>\n",
       "      <td>4</td>\n",
       "      <td>trXmoxcphNjuYcShOXwL</td>\n",
       "      <td>sberauto.com/cars/all/nissan/qashqai/bfc21661?...</td>\n",
       "      <td>card_web</td>\n",
       "      <td>view_card</td>\n",
       "      <td>KclpemfoHstknWHFiLit</td>\n",
       "    </tr>\n",
       "    <tr>\n",
       "      <th>4</th>\n",
       "      <td>9063469723165129646.1640233902.1640233902</td>\n",
       "      <td>2021-12-23</td>\n",
       "      <td>68.0</td>\n",
       "      <td>3</td>\n",
       "      <td>uMnMdxLOIznakHyXLoMC</td>\n",
       "      <td>sberauto.com/cars/all/skoda/rapid/bf24b977?ren...</td>\n",
       "      <td>card_web</td>\n",
       "      <td>view_card</td>\n",
       "      <td>KclpemfoHstknWHFiLit</td>\n",
       "    </tr>\n",
       "    <tr>\n",
       "      <th>...</th>\n",
       "      <td>...</td>\n",
       "      <td>...</td>\n",
       "      <td>...</td>\n",
       "      <td>...</td>\n",
       "      <td>...</td>\n",
       "      <td>...</td>\n",
       "      <td>...</td>\n",
       "      <td>...</td>\n",
       "      <td>...</td>\n",
       "    </tr>\n",
       "    <tr>\n",
       "      <th>5242151</th>\n",
       "      <td>5296596234193380228.1640276868.1640276868</td>\n",
       "      <td>2021-12-23</td>\n",
       "      <td>1006170.0</td>\n",
       "      <td>26</td>\n",
       "      <td>HbolMJUevblAbkHClEQa</td>\n",
       "      <td>sberauto.com/cars/all/volkswagen/polo/e994838f...</td>\n",
       "      <td>quiz</td>\n",
       "      <td>quiz_show</td>\n",
       "      <td>KclpemfoHstknWHFiLit</td>\n",
       "    </tr>\n",
       "    <tr>\n",
       "      <th>5242152</th>\n",
       "      <td>1752395810013978028.1640242606.1640242606</td>\n",
       "      <td>2021-12-23</td>\n",
       "      <td>738385.0</td>\n",
       "      <td>29</td>\n",
       "      <td>HbolMJUevblAbkHClEQa</td>\n",
       "      <td>sberauto.com/cars?utm_source_initial=yandex&amp;ut...</td>\n",
       "      <td>quiz</td>\n",
       "      <td>quiz_show</td>\n",
       "      <td>KclpemfoHstknWHFiLit</td>\n",
       "    </tr>\n",
       "    <tr>\n",
       "      <th>5242153</th>\n",
       "      <td>788733220421394146.1640259301.1640259301</td>\n",
       "      <td>2021-12-23</td>\n",
       "      <td>601072.0</td>\n",
       "      <td>32</td>\n",
       "      <td>HbolMJUevblAbkHClEQa</td>\n",
       "      <td>sberauto.com/cars?utm_source_initial=yandex&amp;ut...</td>\n",
       "      <td>quiz</td>\n",
       "      <td>quiz_show</td>\n",
       "      <td>KclpemfoHstknWHFiLit</td>\n",
       "    </tr>\n",
       "    <tr>\n",
       "      <th>5242154</th>\n",
       "      <td>2213339474111531465.1640270285.1640270285</td>\n",
       "      <td>2021-12-23</td>\n",
       "      <td>652518.0</td>\n",
       "      <td>37</td>\n",
       "      <td>HbolMJUevblAbkHClEQa</td>\n",
       "      <td>sberauto.com/cars/all/bmw/5-serii/eb5698f6?utm...</td>\n",
       "      <td>quiz</td>\n",
       "      <td>quiz_show</td>\n",
       "      <td>KclpemfoHstknWHFiLit</td>\n",
       "    </tr>\n",
       "    <tr>\n",
       "      <th>5242155</th>\n",
       "      <td>8013702685784312179.1640270195.1640270195</td>\n",
       "      <td>2021-12-23</td>\n",
       "      <td>2172865.0</td>\n",
       "      <td>43</td>\n",
       "      <td>HbolMJUevblAbkHClEQa</td>\n",
       "      <td>sberauto.com/cars/all/toyota/alphard/2ebe4871?...</td>\n",
       "      <td>quiz</td>\n",
       "      <td>quiz_show</td>\n",
       "      <td>KclpemfoHstknWHFiLit</td>\n",
       "    </tr>\n",
       "  </tbody>\n",
       "</table>\n",
       "<p>5242156 rows × 9 columns</p>\n",
       "</div>"
      ],
      "text/plain": [
       "                                        session_id    hit_date   hit_time  \\\n",
       "0         885342191847998240.1640235807.1640235807  2021-12-23   796252.0   \n",
       "1        6466333295973247896.1640246168.1640246168  2021-12-23   704194.0   \n",
       "2         555009234841130092.1640256620.1640256620  2021-12-23  1013899.0   \n",
       "3        4555345648396008371.1640233907.1640233907  2021-12-23      107.0   \n",
       "4        9063469723165129646.1640233902.1640233902  2021-12-23       68.0   \n",
       "...                                            ...         ...        ...   \n",
       "5242151  5296596234193380228.1640276868.1640276868  2021-12-23  1006170.0   \n",
       "5242152  1752395810013978028.1640242606.1640242606  2021-12-23   738385.0   \n",
       "5242153   788733220421394146.1640259301.1640259301  2021-12-23   601072.0   \n",
       "5242154  2213339474111531465.1640270285.1640270285  2021-12-23   652518.0   \n",
       "5242155  8013702685784312179.1640270195.1640270195  2021-12-23  2172865.0   \n",
       "\n",
       "         hit_number           hit_referer  \\\n",
       "0                49  HbolMJUevblAbkHClEQa   \n",
       "1                41  HbolMJUevblAbkHClEQa   \n",
       "2               101  VloVXNWduHeTjUoDkjkO   \n",
       "3                 4  trXmoxcphNjuYcShOXwL   \n",
       "4                 3  uMnMdxLOIznakHyXLoMC   \n",
       "...             ...                   ...   \n",
       "5242151          26  HbolMJUevblAbkHClEQa   \n",
       "5242152          29  HbolMJUevblAbkHClEQa   \n",
       "5242153          32  HbolMJUevblAbkHClEQa   \n",
       "5242154          37  HbolMJUevblAbkHClEQa   \n",
       "5242155          43  HbolMJUevblAbkHClEQa   \n",
       "\n",
       "                                             hit_page_path event_category  \\\n",
       "0        sberauto.com/cars/all/volkswagen/polo/e994838f...           quiz   \n",
       "1        sberauto.com/cars?utm_source_initial=youtube&u...           quiz   \n",
       "2        sberauto.com/cars/all/kia/sorento/c38179cb?utm...           quiz   \n",
       "3        sberauto.com/cars/all/nissan/qashqai/bfc21661?...       card_web   \n",
       "4        sberauto.com/cars/all/skoda/rapid/bf24b977?ren...       card_web   \n",
       "...                                                    ...            ...   \n",
       "5242151  sberauto.com/cars/all/volkswagen/polo/e994838f...           quiz   \n",
       "5242152  sberauto.com/cars?utm_source_initial=yandex&ut...           quiz   \n",
       "5242153  sberauto.com/cars?utm_source_initial=yandex&ut...           quiz   \n",
       "5242154  sberauto.com/cars/all/bmw/5-serii/eb5698f6?utm...           quiz   \n",
       "5242155  sberauto.com/cars/all/toyota/alphard/2ebe4871?...           quiz   \n",
       "\n",
       "        event_action           event_label  \n",
       "0          quiz_show  KclpemfoHstknWHFiLit  \n",
       "1          quiz_show  KclpemfoHstknWHFiLit  \n",
       "2          quiz_show  KclpemfoHstknWHFiLit  \n",
       "3          view_card  KclpemfoHstknWHFiLit  \n",
       "4          view_card  KclpemfoHstknWHFiLit  \n",
       "...              ...                   ...  \n",
       "5242151    quiz_show  KclpemfoHstknWHFiLit  \n",
       "5242152    quiz_show  KclpemfoHstknWHFiLit  \n",
       "5242153    quiz_show  KclpemfoHstknWHFiLit  \n",
       "5242154    quiz_show  KclpemfoHstknWHFiLit  \n",
       "5242155    quiz_show  KclpemfoHstknWHFiLit  \n",
       "\n",
       "[5242156 rows x 9 columns]"
      ]
     },
     "execution_count": 6,
     "metadata": {},
     "output_type": "execute_result"
    }
   ],
   "source": [
    "hits"
   ]
  },
  {
   "cell_type": "code",
   "execution_count": 11,
   "id": "c427d6bd-77f3-463a-b0c6-b4a5e3b8d34f",
   "metadata": {},
   "outputs": [
    {
     "data": {
      "text/plain": [
       "session_id                object\n",
       "hit_date          datetime64[ns]\n",
       "hit_time                 float64\n",
       "hit_number                 int64\n",
       "hit_referer               object\n",
       "hit_page_path             object\n",
       "event_category            object\n",
       "event_action              object\n",
       "event_label               object\n",
       "dtype: object"
      ]
     },
     "execution_count": 11,
     "metadata": {},
     "output_type": "execute_result"
    }
   ],
   "source": [
    "hits.dtypes"
   ]
  },
  {
   "cell_type": "code",
   "execution_count": 10,
   "id": "1aa2e6da-e45a-4e54-8e72-5ae23aa20823",
   "metadata": {},
   "outputs": [],
   "source": [
    "hits['hit_date'] = pd.to_datetime(hits['hit_date'])"
   ]
  },
  {
   "cell_type": "markdown",
   "id": "d5e801e4-10f4-4036-938e-b1e66c25edbd",
   "metadata": {
    "jp-MarkdownHeadingCollapsed": true,
    "tags": []
   },
   "source": [
    "## Аномалии "
   ]
  },
  {
   "cell_type": "code",
   "execution_count": 21,
   "id": "0f171f12-e1d9-4dcf-bcd6-09850e71cb49",
   "metadata": {},
   "outputs": [
    {
     "data": {
      "text/html": [
       "<div>\n",
       "<style scoped>\n",
       "    .dataframe tbody tr th:only-of-type {\n",
       "        vertical-align: middle;\n",
       "    }\n",
       "\n",
       "    .dataframe tbody tr th {\n",
       "        vertical-align: top;\n",
       "    }\n",
       "\n",
       "    .dataframe thead th {\n",
       "        text-align: right;\n",
       "    }\n",
       "</style>\n",
       "<table border=\"1\" class=\"dataframe\">\n",
       "  <thead>\n",
       "    <tr style=\"text-align: right;\">\n",
       "      <th></th>\n",
       "      <th>session_id</th>\n",
       "      <th>hit_date</th>\n",
       "      <th>hit_time</th>\n",
       "      <th>hit_number</th>\n",
       "      <th>hit_referer</th>\n",
       "      <th>hit_page_path</th>\n",
       "      <th>event_category</th>\n",
       "      <th>event_action</th>\n",
       "      <th>event_label</th>\n",
       "    </tr>\n",
       "  </thead>\n",
       "  <tbody>\n",
       "    <tr>\n",
       "      <th>0</th>\n",
       "      <td>885342191847998240.1640235807.1640235807</td>\n",
       "      <td>2021-12-23</td>\n",
       "      <td>796252.0</td>\n",
       "      <td>49</td>\n",
       "      <td>HbolMJUevblAbkHClEQa</td>\n",
       "      <td>sberauto.com/cars/all/volkswagen/polo/e994838f...</td>\n",
       "      <td>quiz</td>\n",
       "      <td>quiz_show</td>\n",
       "      <td>KclpemfoHstknWHFiLit</td>\n",
       "    </tr>\n",
       "    <tr>\n",
       "      <th>1</th>\n",
       "      <td>6466333295973247896.1640246168.1640246168</td>\n",
       "      <td>2021-12-23</td>\n",
       "      <td>704194.0</td>\n",
       "      <td>41</td>\n",
       "      <td>HbolMJUevblAbkHClEQa</td>\n",
       "      <td>sberauto.com/cars?utm_source_initial=youtube&amp;u...</td>\n",
       "      <td>quiz</td>\n",
       "      <td>quiz_show</td>\n",
       "      <td>KclpemfoHstknWHFiLit</td>\n",
       "    </tr>\n",
       "    <tr>\n",
       "      <th>2</th>\n",
       "      <td>555009234841130092.1640256620.1640256620</td>\n",
       "      <td>2021-12-23</td>\n",
       "      <td>1013899.0</td>\n",
       "      <td>101</td>\n",
       "      <td>VloVXNWduHeTjUoDkjkO</td>\n",
       "      <td>sberauto.com/cars/all/kia/sorento/c38179cb?utm...</td>\n",
       "      <td>quiz</td>\n",
       "      <td>quiz_show</td>\n",
       "      <td>KclpemfoHstknWHFiLit</td>\n",
       "    </tr>\n",
       "    <tr>\n",
       "      <th>3</th>\n",
       "      <td>4555345648396008371.1640233907.1640233907</td>\n",
       "      <td>2021-12-23</td>\n",
       "      <td>107.0</td>\n",
       "      <td>4</td>\n",
       "      <td>trXmoxcphNjuYcShOXwL</td>\n",
       "      <td>sberauto.com/cars/all/nissan/qashqai/bfc21661?...</td>\n",
       "      <td>card_web</td>\n",
       "      <td>view_card</td>\n",
       "      <td>KclpemfoHstknWHFiLit</td>\n",
       "    </tr>\n",
       "    <tr>\n",
       "      <th>4</th>\n",
       "      <td>9063469723165129646.1640233902.1640233902</td>\n",
       "      <td>2021-12-23</td>\n",
       "      <td>68.0</td>\n",
       "      <td>3</td>\n",
       "      <td>uMnMdxLOIznakHyXLoMC</td>\n",
       "      <td>sberauto.com/cars/all/skoda/rapid/bf24b977?ren...</td>\n",
       "      <td>card_web</td>\n",
       "      <td>view_card</td>\n",
       "      <td>KclpemfoHstknWHFiLit</td>\n",
       "    </tr>\n",
       "  </tbody>\n",
       "</table>\n",
       "</div>"
      ],
      "text/plain": [
       "                                  session_id   hit_date   hit_time  \\\n",
       "0   885342191847998240.1640235807.1640235807 2021-12-23   796252.0   \n",
       "1  6466333295973247896.1640246168.1640246168 2021-12-23   704194.0   \n",
       "2   555009234841130092.1640256620.1640256620 2021-12-23  1013899.0   \n",
       "3  4555345648396008371.1640233907.1640233907 2021-12-23      107.0   \n",
       "4  9063469723165129646.1640233902.1640233902 2021-12-23       68.0   \n",
       "\n",
       "   hit_number           hit_referer  \\\n",
       "0          49  HbolMJUevblAbkHClEQa   \n",
       "1          41  HbolMJUevblAbkHClEQa   \n",
       "2         101  VloVXNWduHeTjUoDkjkO   \n",
       "3           4  trXmoxcphNjuYcShOXwL   \n",
       "4           3  uMnMdxLOIznakHyXLoMC   \n",
       "\n",
       "                                       hit_page_path event_category  \\\n",
       "0  sberauto.com/cars/all/volkswagen/polo/e994838f...           quiz   \n",
       "1  sberauto.com/cars?utm_source_initial=youtube&u...           quiz   \n",
       "2  sberauto.com/cars/all/kia/sorento/c38179cb?utm...           quiz   \n",
       "3  sberauto.com/cars/all/nissan/qashqai/bfc21661?...       card_web   \n",
       "4  sberauto.com/cars/all/skoda/rapid/bf24b977?ren...       card_web   \n",
       "\n",
       "  event_action           event_label  \n",
       "0    quiz_show  KclpemfoHstknWHFiLit  \n",
       "1    quiz_show  KclpemfoHstknWHFiLit  \n",
       "2    quiz_show  KclpemfoHstknWHFiLit  \n",
       "3    view_card  KclpemfoHstknWHFiLit  \n",
       "4    view_card  KclpemfoHstknWHFiLit  "
      ]
     },
     "execution_count": 21,
     "metadata": {},
     "output_type": "execute_result"
    }
   ],
   "source": [
    "hits.head()"
   ]
  },
  {
   "cell_type": "code",
   "execution_count": 24,
   "id": "dbf53892-b1ec-4c1e-baa1-fcd39639d47f",
   "metadata": {},
   "outputs": [],
   "source": [
    "def calculate_outliers(data):\n",
    "    \n",
    "    q25 = data.quantile(0.25)\n",
    "    q75 = data.quantile(0.75)\n",
    "    iqr = q75 - q25\n",
    "\n",
    "    boundaries = (q25 - 1.5 * iqr, q75 + 1.5 * iqr)\n",
    "\n",
    "    return boundaries"
   ]
  },
  {
   "cell_type": "markdown",
   "id": "3ca15a7d-cc17-402d-81c9-4994260220d6",
   "metadata": {
    "jp-MarkdownHeadingCollapsed": true,
    "tags": []
   },
   "source": [
    "### Hit_time"
   ]
  },
  {
   "cell_type": "code",
   "execution_count": 32,
   "id": "fd3a84d7-318d-4929-ad9d-5db3a502b6ed",
   "metadata": {},
   "outputs": [
    {
     "data": {
      "text/plain": [
       "Text(0, 0.5, 'Hit_time')"
      ]
     },
     "execution_count": 32,
     "metadata": {},
     "output_type": "execute_result"
    },
    {
     "data": {
      "image/png": "[encoded data removed]",
      "text/plain": [
       "<Figure size 576x432 with 1 Axes>"
      ]
     },
     "metadata": {
      "needs_background": "light"
     },
     "output_type": "display_data"
    }
   ],
   "source": [
    "plt.figure(figsize=(8, 6))\n",
    "hits.boxplot(column='hit_time')\n",
    "plt.title('Boxplot (hit_time)')\n",
    "plt.ylabel('Hit_time')"
   ]
  },
  {
   "cell_type": "code",
   "execution_count": 25,
   "id": "e6bbedb7-d59f-4ed1-aaa2-cf536c7b7eaa",
   "metadata": {},
   "outputs": [
    {
     "data": {
      "text/plain": [
       "(4167.88125511707, 332424.1979081382)"
      ]
     },
     "execution_count": 25,
     "metadata": {},
     "output_type": "execute_result"
    }
   ],
   "source": [
    "boundaries = calculate_outliers(hits['hit_time'])\n",
    "boundaries"
   ]
  },
  {
   "cell_type": "code",
   "execution_count": 29,
   "id": "e68943fc-b464-41f1-ae45-3b8abaa72614",
   "metadata": {},
   "outputs": [
    {
     "data": {
      "text/plain": [
       "693261"
      ]
     },
     "execution_count": 29,
     "metadata": {},
     "output_type": "execute_result"
    }
   ],
   "source": [
    "# найдем выбросы в hit_time\n",
    "\n",
    "is_outlier = (hits['hit_time'] < boundaries[0]) | (hits['hit_time'] > boundaries[1])\n",
    "is_outlier.sum()"
   ]
  },
  {
   "cell_type": "code",
   "execution_count": 30,
   "id": "1f697044-04ef-4d15-a83b-31042491fed1",
   "metadata": {},
   "outputs": [
    {
     "data": {
      "text/plain": [
       "0.13224730435339963"
      ]
     },
     "execution_count": 30,
     "metadata": {},
     "output_type": "execute_result"
    }
   ],
   "source": [
    "# процент выбросов\n",
    "\n",
    "is_outlier.sum() / len(hits)"
   ]
  },
  {
   "cell_type": "code",
   "execution_count": 31,
   "id": "bba49735-852d-418d-961a-99e0bde1219a",
   "metadata": {},
   "outputs": [],
   "source": [
    "# заменим выбросы на граничные значения\n",
    "\n",
    "hits.loc[(hits['hit_time'] < boundaries[0]), 'hit_time'] = int(boundaries[0])\n",
    "hits.loc[(hits['hit_time'] > boundaries[1]), 'hit_time'] = int(boundaries[1])"
   ]
  },
  {
   "cell_type": "markdown",
   "id": "a1573ccf-75b2-42b8-91ed-ac13b89004cc",
   "metadata": {
    "jp-MarkdownHeadingCollapsed": true,
    "tags": []
   },
   "source": [
    "### Hit_number"
   ]
  },
  {
   "cell_type": "code",
   "execution_count": 40,
   "id": "2d84fed6-df32-4b92-bede-c48c31d89079",
   "metadata": {},
   "outputs": [
    {
     "data": {
      "text/plain": [
       "(array([1332763., 1062283.,  775990.,  525511.,  371151.,  269086.,\n",
       "         196948.,  146357.,  110367.,  451700.]),\n",
       " array([ 1. ,  7.1, 13.2, 19.3, 25.4, 31.5, 37.6, 43.7, 49.8, 55.9, 62. ]),\n",
       " <BarContainer object of 10 artists>)"
      ]
     },
     "execution_count": 40,
     "metadata": {},
     "output_type": "execute_result"
    },
    {
     "data": {
      "image/png": "[encoded data removed]",
      "text/plain": [
       "<Figure size 432x288 with 1 Axes>"
      ]
     },
     "metadata": {
      "needs_background": "light"
     },
     "output_type": "display_data"
    }
   ],
   "source": [
    "plt.hist(hits['hit_number'])"
   ]
  },
  {
   "cell_type": "code",
   "execution_count": 36,
   "id": "b5860fab-0e0d-4ef1-ad90-06a571b8aff3",
   "metadata": {},
   "outputs": [
    {
     "data": {
      "text/plain": [
       "(-26.0, 62.0)"
      ]
     },
     "execution_count": 36,
     "metadata": {},
     "output_type": "execute_result"
    }
   ],
   "source": [
    "boundaries = calculate_outliers(hits['hit_number'])\n",
    "boundaries"
   ]
  },
  {
   "cell_type": "code",
   "execution_count": 37,
   "id": "38a5e4a8-2d2d-4587-b6c5-3a1874771bd0",
   "metadata": {},
   "outputs": [
    {
     "data": {
      "text/plain": [
       "354462"
      ]
     },
     "execution_count": 37,
     "metadata": {},
     "output_type": "execute_result"
    }
   ],
   "source": [
    "# найдем выбросы в hit_number\n",
    "\n",
    "is_outlier = (hits['hit_number'] < boundaries[0]) | (hits['hit_number'] > boundaries[1])\n",
    "is_outlier.sum()"
   ]
  },
  {
   "cell_type": "code",
   "execution_count": 38,
   "id": "795db046-f28d-479b-b0b4-19cef0b0c722",
   "metadata": {},
   "outputs": [
    {
     "data": {
      "text/plain": [
       "0.06761759856059224"
      ]
     },
     "execution_count": 38,
     "metadata": {},
     "output_type": "execute_result"
    }
   ],
   "source": [
    "# процент выбросов\n",
    "\n",
    "is_outlier.sum() / len(hits)"
   ]
  },
  {
   "cell_type": "code",
   "execution_count": 39,
   "id": "e21857e5-8c13-44a2-b032-c334dd092b4a",
   "metadata": {},
   "outputs": [],
   "source": [
    "# заменим выбросы на граничные значения\n",
    "\n",
    "hits.loc[(hits['hit_number'] < boundaries[0]), 'hit_number'] = int(boundaries[0])\n",
    "hits.loc[(hits['hit_number'] > boundaries[1]), 'hit_number'] = int(boundaries[1])"
   ]
  },
  {
   "cell_type": "markdown",
   "id": "ce19c8bb-39b1-4da5-8fd1-c609f7658ffb",
   "metadata": {},
   "source": [
    "## Feature Engineering"
   ]
  },
  {
   "cell_type": "code",
   "execution_count": 53,
   "id": "e74238c2-b518-4596-91b8-041c0ded1fed",
   "metadata": {},
   "outputs": [
    {
     "data": {
      "text/html": [
       "<div>\n",
       "<style scoped>\n",
       "    .dataframe tbody tr th:only-of-type {\n",
       "        vertical-align: middle;\n",
       "    }\n",
       "\n",
       "    .dataframe tbody tr th {\n",
       "        vertical-align: top;\n",
       "    }\n",
       "\n",
       "    .dataframe thead th {\n",
       "        text-align: right;\n",
       "    }\n",
       "</style>\n",
       "<table border=\"1\" class=\"dataframe\">\n",
       "  <thead>\n",
       "    <tr style=\"text-align: right;\">\n",
       "      <th></th>\n",
       "      <th>session_id</th>\n",
       "      <th>hit_time</th>\n",
       "      <th>hit_number</th>\n",
       "      <th>hit_referer</th>\n",
       "      <th>hit_page_path</th>\n",
       "      <th>event_category</th>\n",
       "      <th>event_action</th>\n",
       "      <th>event_label</th>\n",
       "      <th>month</th>\n",
       "      <th>day</th>\n",
       "    </tr>\n",
       "  </thead>\n",
       "  <tbody>\n",
       "    <tr>\n",
       "      <th>0</th>\n",
       "      <td>885342191847998240.1640235807.1640235807</td>\n",
       "      <td>332424.0</td>\n",
       "      <td>49</td>\n",
       "      <td>HbolMJUevblAbkHClEQa</td>\n",
       "      <td>sberauto.com/cars/all/volkswagen/polo/e994838f...</td>\n",
       "      <td>quiz</td>\n",
       "      <td>quiz_show</td>\n",
       "      <td>KclpemfoHstknWHFiLit</td>\n",
       "      <td>12</td>\n",
       "      <td>23</td>\n",
       "    </tr>\n",
       "    <tr>\n",
       "      <th>1</th>\n",
       "      <td>6466333295973247896.1640246168.1640246168</td>\n",
       "      <td>332424.0</td>\n",
       "      <td>41</td>\n",
       "      <td>HbolMJUevblAbkHClEQa</td>\n",
       "      <td>sberauto.com/cars?utm_source_initial=youtube&amp;u...</td>\n",
       "      <td>quiz</td>\n",
       "      <td>quiz_show</td>\n",
       "      <td>KclpemfoHstknWHFiLit</td>\n",
       "      <td>12</td>\n",
       "      <td>23</td>\n",
       "    </tr>\n",
       "    <tr>\n",
       "      <th>2</th>\n",
       "      <td>555009234841130092.1640256620.1640256620</td>\n",
       "      <td>332424.0</td>\n",
       "      <td>62</td>\n",
       "      <td>VloVXNWduHeTjUoDkjkO</td>\n",
       "      <td>sberauto.com/cars/all/kia/sorento/c38179cb?utm...</td>\n",
       "      <td>quiz</td>\n",
       "      <td>quiz_show</td>\n",
       "      <td>KclpemfoHstknWHFiLit</td>\n",
       "      <td>12</td>\n",
       "      <td>23</td>\n",
       "    </tr>\n",
       "    <tr>\n",
       "      <th>3</th>\n",
       "      <td>4555345648396008371.1640233907.1640233907</td>\n",
       "      <td>4167.0</td>\n",
       "      <td>4</td>\n",
       "      <td>trXmoxcphNjuYcShOXwL</td>\n",
       "      <td>sberauto.com/cars/all/nissan/qashqai/bfc21661?...</td>\n",
       "      <td>card_web</td>\n",
       "      <td>view_card</td>\n",
       "      <td>KclpemfoHstknWHFiLit</td>\n",
       "      <td>12</td>\n",
       "      <td>23</td>\n",
       "    </tr>\n",
       "    <tr>\n",
       "      <th>4</th>\n",
       "      <td>9063469723165129646.1640233902.1640233902</td>\n",
       "      <td>4167.0</td>\n",
       "      <td>3</td>\n",
       "      <td>uMnMdxLOIznakHyXLoMC</td>\n",
       "      <td>sberauto.com/cars/all/skoda/rapid/bf24b977?ren...</td>\n",
       "      <td>card_web</td>\n",
       "      <td>view_card</td>\n",
       "      <td>KclpemfoHstknWHFiLit</td>\n",
       "      <td>12</td>\n",
       "      <td>23</td>\n",
       "    </tr>\n",
       "  </tbody>\n",
       "</table>\n",
       "</div>"
      ],
      "text/plain": [
       "                                  session_id  hit_time  hit_number  \\\n",
       "0   885342191847998240.1640235807.1640235807  332424.0          49   \n",
       "1  6466333295973247896.1640246168.1640246168  332424.0          41   \n",
       "2   555009234841130092.1640256620.1640256620  332424.0          62   \n",
       "3  4555345648396008371.1640233907.1640233907    4167.0           4   \n",
       "4  9063469723165129646.1640233902.1640233902    4167.0           3   \n",
       "\n",
       "            hit_referer                                      hit_page_path  \\\n",
       "0  HbolMJUevblAbkHClEQa  sberauto.com/cars/all/volkswagen/polo/e994838f...   \n",
       "1  HbolMJUevblAbkHClEQa  sberauto.com/cars?utm_source_initial=youtube&u...   \n",
       "2  VloVXNWduHeTjUoDkjkO  sberauto.com/cars/all/kia/sorento/c38179cb?utm...   \n",
       "3  trXmoxcphNjuYcShOXwL  sberauto.com/cars/all/nissan/qashqai/bfc21661?...   \n",
       "4  uMnMdxLOIznakHyXLoMC  sberauto.com/cars/all/skoda/rapid/bf24b977?ren...   \n",
       "\n",
       "  event_category event_action           event_label  month  day  \n",
       "0           quiz    quiz_show  KclpemfoHstknWHFiLit     12   23  \n",
       "1           quiz    quiz_show  KclpemfoHstknWHFiLit     12   23  \n",
       "2           quiz    quiz_show  KclpemfoHstknWHFiLit     12   23  \n",
       "3       card_web    view_card  KclpemfoHstknWHFiLit     12   23  \n",
       "4       card_web    view_card  KclpemfoHstknWHFiLit     12   23  "
      ]
     },
     "execution_count": 53,
     "metadata": {},
     "output_type": "execute_result"
    }
   ],
   "source": [
    "hits.head()"
   ]
  },
  {
   "cell_type": "markdown",
   "id": "225a8c8b-039b-45ab-b628-2d0268a7df7c",
   "metadata": {
    "jp-MarkdownHeadingCollapsed": true,
    "tags": []
   },
   "source": [
    "### Hit_date"
   ]
  },
  {
   "cell_type": "code",
   "execution_count": 42,
   "id": "3068379d-c74a-4e6b-8b7d-190f35d21c52",
   "metadata": {},
   "outputs": [
    {
     "data": {
      "text/plain": [
       "2021    5242156\n",
       "Name: hit_date, dtype: int64"
      ]
     },
     "execution_count": 42,
     "metadata": {},
     "output_type": "execute_result"
    }
   ],
   "source": [
    "hits['hit_date'].dt.year.value_counts()"
   ]
  },
  {
   "cell_type": "code",
   "execution_count": 43,
   "id": "cd342fa7-c30e-4514-a594-54be2eba675c",
   "metadata": {},
   "outputs": [
    {
     "data": {
      "text/plain": [
       "12    1122562\n",
       "10     780738\n",
       "11     770024\n",
       "9      720651\n",
       "6      520005\n",
       "8      464318\n",
       "5      447198\n",
       "7      416660\n",
       "Name: hit_date, dtype: int64"
      ]
     },
     "execution_count": 43,
     "metadata": {},
     "output_type": "execute_result"
    }
   ],
   "source": [
    "hits['hit_date'].dt.month.value_counts()"
   ]
  },
  {
   "cell_type": "code",
   "execution_count": 44,
   "id": "1a4ceba2-005d-40dd-bc73-3293d32d880d",
   "metadata": {},
   "outputs": [
    {
     "data": {
      "text/plain": [
       "24    345229\n",
       "29    226782\n",
       "25    225512\n",
       "21    218074\n",
       "30    208128\n",
       "26    195021\n",
       "28    194152\n",
       "23    190785\n",
       "22    186980\n",
       "27    181951\n",
       "14    176211\n",
       "17    165486\n",
       "19    163148\n",
       "16    161857\n",
       "18    158856\n",
       "15    156751\n",
       "13    154902\n",
       "12    149817\n",
       "6     148437\n",
       "20    147312\n",
       "7     143821\n",
       "1     143003\n",
       "5     141800\n",
       "9     139199\n",
       "11    139117\n",
       "8     138582\n",
       "10    135785\n",
       "3     133876\n",
       "2     132324\n",
       "4     122439\n",
       "31    116819\n",
       "Name: hit_date, dtype: int64"
      ]
     },
     "execution_count": 44,
     "metadata": {},
     "output_type": "execute_result"
    }
   ],
   "source": [
    "hits['hit_date'].dt.day.value_counts()"
   ]
  },
  {
   "cell_type": "code",
   "execution_count": 45,
   "id": "5985597b-4642-43c0-a1ac-f5ad57f27c94",
   "metadata": {},
   "outputs": [],
   "source": [
    "# создадим столбцы с номерами месяцев и дней\n",
    "\n",
    "hits['month'] = hits['hit_date'].dt.month\n",
    "hits['day'] = hits['hit_date'].dt.day"
   ]
  },
  {
   "cell_type": "code",
   "execution_count": 50,
   "id": "ed3c5ab9-ff99-4976-905d-a7a9a82468dc",
   "metadata": {},
   "outputs": [],
   "source": [
    "# удалим исходный столбец\n",
    "\n",
    "hits = hits.drop(['hit_date'], axis=1)"
   ]
  },
  {
   "cell_type": "markdown",
   "id": "437ab4b3-c05e-469b-b7e7-0dfb312eb054",
   "metadata": {},
   "source": [
    "### Hit_page_path"
   ]
  },
  {
   "cell_type": "code",
   "execution_count": 34,
   "id": "c09e1dbb-994b-4410-833b-162b3b3ace18",
   "metadata": {},
   "outputs": [
    {
     "data": {
      "text/plain": [
       "0          sberauto.com/cars/all/volkswagen/polo/e994838f...\n",
       "1          sberauto.com/cars?utm_source_initial=youtube&u...\n",
       "2          sberauto.com/cars/all/kia/sorento/c38179cb?utm...\n",
       "3          sberauto.com/cars/all/nissan/qashqai/bfc21661?...\n",
       "4          sberauto.com/cars/all/skoda/rapid/bf24b977?ren...\n",
       "                                 ...                        \n",
       "5242151    sberauto.com/cars/all/volkswagen/polo/e994838f...\n",
       "5242152    sberauto.com/cars?utm_source_initial=yandex&ut...\n",
       "5242153    sberauto.com/cars?utm_source_initial=yandex&ut...\n",
       "5242154    sberauto.com/cars/all/bmw/5-serii/eb5698f6?utm...\n",
       "5242155    sberauto.com/cars/all/toyota/alphard/2ebe4871?...\n",
       "Name: hit_page_path, Length: 5242156, dtype: object"
      ]
     },
     "execution_count": 34,
     "metadata": {},
     "output_type": "execute_result"
    }
   ],
   "source": [
    "hits['hit_page_path']"
   ]
  },
  {
   "cell_type": "code",
   "execution_count": 35,
   "id": "abb2e5b3-fea7-4b2f-8154-5487b4dd7cf9",
   "metadata": {},
   "outputs": [
    {
     "data": {
      "text/plain": [
       "6          client.saptest.sberauto-team.com/cars/all/merc...\n",
       "22          podpiska.sberauto.com/?yclid=7645190563903103343\n",
       "61          podpiska.sberauto.com/?yclid=7650868345829907007\n",
       "222         podpiska.sberauto.com/?yclid=7646255195212803653\n",
       "500        client.sap.sberauto-team.com/cars/all/volkswag...\n",
       "                                 ...                        \n",
       "5241663                            podpiska.sberauto.com/faq\n",
       "5242117    podpiska.sberauto.com/?yzclid=7169385180044596044\n",
       "5242118    podpiska.sberauto.com/?yzclid=7837953414087936832\n",
       "5242119    podpiska.sberauto.com/?yzclid=5888433221627265513\n",
       "5242140                            podpiska.sberauto.com/faq\n",
       "Name: hit_page_path, Length: 1100264, dtype: object"
      ]
     },
     "execution_count": 35,
     "metadata": {},
     "output_type": "execute_result"
    }
   ],
   "source": [
    "# проверим, все ли строки начинаются с sberauto.com\n",
    "\n",
    "hits[~hits['hit_page_path'].str.startswith('sberauto.com')]['hit_page_path']"
   ]
  },
  {
   "cell_type": "code",
   "execution_count": 42,
   "id": "e2ad1daf-cb86-44e8-b98f-8d87e5b02c4f",
   "metadata": {},
   "outputs": [],
   "source": [
    "# добавим столбец с доменами\n",
    "\n",
    "hits['domain'] = hits['hit_page_path'].apply(lambda x: x.split('/')[0])"
   ]
  },
  {
   "cell_type": "code",
   "execution_count": 45,
   "id": "d248e4b0-8bfc-4eb2-8df5-86f7f305b576",
   "metadata": {},
   "outputs": [
    {
     "data": {
      "text/plain": [
       "sberauto.com                        4141892\n",
       "podpiska.sberauto.com               1058020\n",
       "                                      20265\n",
       "client.saptest.sberauto-team.com      12758\n",
       "other                                  2521\n",
       "client.sap.sberauto-team.com           2501\n",
       "localhost                              1543\n",
       "client.preprod.sberauto.com            1377\n",
       "sberauto-client.sap.sberauto.com       1279\n",
       "Name: domain, dtype: int64"
      ]
     },
     "execution_count": 45,
     "metadata": {},
     "output_type": "execute_result"
    }
   ],
   "source": [
    "hits['domain'].value_counts()"
   ]
  },
  {
   "cell_type": "code",
   "execution_count": 44,
   "id": "bb7bcbbe-ec30-4d74-ba14-3a18654c124e",
   "metadata": {},
   "outputs": [],
   "source": [
    "# Заменим значения с количеством меньше 1000 на other\n",
    "\n",
    "values = hits['domain'].value_counts()\n",
    "hits['domain'] = hits['domain'].apply(lambda x: 'other' if values[x] < 1000 else x)"
   ]
  },
  {
   "cell_type": "code",
   "execution_count": 46,
   "id": "ef22462a-e3e8-4d86-a778-ec410035dcc1",
   "metadata": {},
   "outputs": [],
   "source": [
    "# удалим из hit_page_path части из domain\n",
    "\n",
    "hits['hit_page_path'] = hits['hit_page_path'].str.split('/', 1).str[1]"
   ]
  },
  {
   "cell_type": "code",
   "execution_count": 51,
   "id": "b8abfa7d-7eee-432e-8be4-16150823945c",
   "metadata": {},
   "outputs": [
    {
     "name": "stdout",
     "output_type": "stream",
     "text": [
      "Scheme: \n",
      "Netloc: \n",
      "Path: cars/all/renault/logan/8c3c73f2\n",
      "Query: rental_page=rental_car&fbclid=paaabxaph9gy1ickwddkjw3g08an245pkki8rdvblvglj8qeokw878lmczirw_aem_at9wezv4jecw39iansyvloefeseer0rkz_yxf6xdr7suktiimukjgbl_etzib0k_skbxjqgjkbk3cupavtoy3vxqel3qc5h-re4hutlsyqxdggk-uozbotk-1oruljvgyi4\n"
     ]
    }
   ],
   "source": [
    "# рассмотрим остальные составляющие url\n",
    "\n",
    "parsed_url = urlparse(hits['hit_page_path'][88])\n",
    "\n",
    "print(\"Scheme:\", parsed_url.scheme)\n",
    "print(\"Netloc:\", parsed_url.netloc)\n",
    "print(\"Path:\", parsed_url.path)\n",
    "print(\"Query:\", parsed_url.query)"
   ]
  },
  {
   "cell_type": "code",
   "execution_count": 52,
   "id": "91a192b8-8847-4551-bec4-c80cfd516aa6",
   "metadata": {},
   "outputs": [],
   "source": [
    "# добавим два столбца: path, query\n",
    "\n",
    "hits['path'] = hits['hit_page_path'].apply(lambda x: urlparse(x).path)\n",
    "hits['query'] = hits['hit_page_path'].apply(lambda x: urlparse(x).query)"
   ]
  },
  {
   "cell_type": "code",
   "execution_count": 55,
   "id": "4b45a1f7-f683-4dd1-89a2-7fe1f78e0602",
   "metadata": {},
   "outputs": [],
   "source": [
    "hits = hits.drop(['hit_page_path'], axis=1)"
   ]
  },
  {
   "cell_type": "code",
   "execution_count": 56,
   "id": "7cf20c46-f4a2-457d-b47b-bdeabd2e7890",
   "metadata": {},
   "outputs": [],
   "source": [
    "hits.to_csv('data/ga_hits(2.1).csv', index=False)"
   ]
  },
  {
   "cell_type": "code",
   "execution_count": null,
   "id": "8bd9f980-4959-43cf-aa73-4ac40a8086dd",
   "metadata": {},
   "outputs": [],
   "source": []
  }
 ],
 "metadata": {
  "kernelspec": {
   "display_name": "Python 3 (ipykernel)",
   "language": "python",
   "name": "python3"
  },
  "language_info": {
   "codemirror_mode": {
    "name": "ipython",
    "version": 3
   },
   "file_extension": ".py",
   "mimetype": "text/x-python",
   "name": "python",
   "nbconvert_exporter": "python",
   "pygments_lexer": "ipython3",
   "version": "3.9.12"
  }
 },
 "nbformat": 4,
 "nbformat_minor": 5
}
