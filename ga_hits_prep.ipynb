{
 "cells": [
  {
   "cell_type": "code",
   "execution_count": 1,
   "id": "065c0ebb-0901-44f6-a078-d9b9fcaf0e73",
   "metadata": {},
   "outputs": [],
   "source": [
    "import pandas as pd\n",
    "import matplotlib.pyplot as plt\n",
    "import seaborn as sns\n",
    "import missingno as msno"
   ]
  },
  {
   "cell_type": "markdown",
   "id": "e15ddf27-c733-45f6-a81f-38d016314e8d",
   "metadata": {
    "tags": []
   },
   "source": [
    "### Действия для ga_hits\n",
    "\n",
    "- удалить event_value (пустой), hit_type (все значения одинаковые)\n",
    "- заполнить пропуски hit_time средним значением\n",
    "- заполнить пропуски event_label модой\n",
    "- заполнить пропуски hit_referer модой"
   ]
  },
  {
   "cell_type": "markdown",
   "id": "fb80e049-694f-4934-9724-9505460626d8",
   "metadata": {
    "tags": []
   },
   "source": [
    "# Загрузка данных"
   ]
  },
  {
   "cell_type": "code",
   "execution_count": 2,
   "id": "3edf4179-5407-49ce-a4d9-95588adba5c2",
   "metadata": {},
   "outputs": [],
   "source": [
    "step = 3\n",
    "hits_df = pd.read_csv('data/ga_hits.csv', skiprows=lambda x: x % step != 0) \n",
    "# всего 15 726 470 строк "
   ]
  },
  {
   "cell_type": "code",
   "execution_count": 3,
   "id": "3c7ba2fd-c115-4e19-b730-0880b436b50f",
   "metadata": {},
   "outputs": [
    {
     "data": {
      "text/html": [
       "<div>\n",
       "<style scoped>\n",
       "    .dataframe tbody tr th:only-of-type {\n",
       "        vertical-align: middle;\n",
       "    }\n",
       "\n",
       "    .dataframe tbody tr th {\n",
       "        vertical-align: top;\n",
       "    }\n",
       "\n",
       "    .dataframe thead th {\n",
       "        text-align: right;\n",
       "    }\n",
       "</style>\n",
       "<table border=\"1\" class=\"dataframe\">\n",
       "  <thead>\n",
       "    <tr style=\"text-align: right;\">\n",
       "      <th></th>\n",
       "      <th>session_id</th>\n",
       "      <th>hit_date</th>\n",
       "      <th>hit_time</th>\n",
       "      <th>hit_number</th>\n",
       "      <th>hit_type</th>\n",
       "      <th>hit_referer</th>\n",
       "      <th>hit_page_path</th>\n",
       "      <th>event_category</th>\n",
       "      <th>event_action</th>\n",
       "      <th>event_label</th>\n",
       "      <th>event_value</th>\n",
       "    </tr>\n",
       "  </thead>\n",
       "  <tbody>\n",
       "    <tr>\n",
       "      <th>0</th>\n",
       "      <td>885342191847998240.1640235807.1640235807</td>\n",
       "      <td>2021-12-23</td>\n",
       "      <td>796252.0</td>\n",
       "      <td>49</td>\n",
       "      <td>event</td>\n",
       "      <td>NaN</td>\n",
       "      <td>sberauto.com/cars/all/volkswagen/polo/e994838f...</td>\n",
       "      <td>quiz</td>\n",
       "      <td>quiz_show</td>\n",
       "      <td>NaN</td>\n",
       "      <td>NaN</td>\n",
       "    </tr>\n",
       "    <tr>\n",
       "      <th>1</th>\n",
       "      <td>6466333295973247896.1640246168.1640246168</td>\n",
       "      <td>2021-12-23</td>\n",
       "      <td>704194.0</td>\n",
       "      <td>41</td>\n",
       "      <td>event</td>\n",
       "      <td>NaN</td>\n",
       "      <td>sberauto.com/cars?utm_source_initial=youtube&amp;u...</td>\n",
       "      <td>quiz</td>\n",
       "      <td>quiz_show</td>\n",
       "      <td>NaN</td>\n",
       "      <td>NaN</td>\n",
       "    </tr>\n",
       "    <tr>\n",
       "      <th>2</th>\n",
       "      <td>555009234841130092.1640256620.1640256620</td>\n",
       "      <td>2021-12-23</td>\n",
       "      <td>1013899.0</td>\n",
       "      <td>101</td>\n",
       "      <td>event</td>\n",
       "      <td>VloVXNWduHeTjUoDkjkO</td>\n",
       "      <td>sberauto.com/cars/all/kia/sorento/c38179cb?utm...</td>\n",
       "      <td>quiz</td>\n",
       "      <td>quiz_show</td>\n",
       "      <td>NaN</td>\n",
       "      <td>NaN</td>\n",
       "    </tr>\n",
       "    <tr>\n",
       "      <th>3</th>\n",
       "      <td>4555345648396008371.1640233907.1640233907</td>\n",
       "      <td>2021-12-23</td>\n",
       "      <td>107.0</td>\n",
       "      <td>4</td>\n",
       "      <td>event</td>\n",
       "      <td>trXmoxcphNjuYcShOXwL</td>\n",
       "      <td>sberauto.com/cars/all/nissan/qashqai/bfc21661?...</td>\n",
       "      <td>card_web</td>\n",
       "      <td>view_card</td>\n",
       "      <td>NaN</td>\n",
       "      <td>NaN</td>\n",
       "    </tr>\n",
       "    <tr>\n",
       "      <th>4</th>\n",
       "      <td>9063469723165129646.1640233902.1640233902</td>\n",
       "      <td>2021-12-23</td>\n",
       "      <td>68.0</td>\n",
       "      <td>3</td>\n",
       "      <td>event</td>\n",
       "      <td>uMnMdxLOIznakHyXLoMC</td>\n",
       "      <td>sberauto.com/cars/all/skoda/rapid/bf24b977?ren...</td>\n",
       "      <td>card_web</td>\n",
       "      <td>view_card</td>\n",
       "      <td>NaN</td>\n",
       "      <td>NaN</td>\n",
       "    </tr>\n",
       "  </tbody>\n",
       "</table>\n",
       "</div>"
      ],
      "text/plain": [
       "                                  session_id    hit_date   hit_time  \\\n",
       "0   885342191847998240.1640235807.1640235807  2021-12-23   796252.0   \n",
       "1  6466333295973247896.1640246168.1640246168  2021-12-23   704194.0   \n",
       "2   555009234841130092.1640256620.1640256620  2021-12-23  1013899.0   \n",
       "3  4555345648396008371.1640233907.1640233907  2021-12-23      107.0   \n",
       "4  9063469723165129646.1640233902.1640233902  2021-12-23       68.0   \n",
       "\n",
       "   hit_number hit_type           hit_referer  \\\n",
       "0          49    event                   NaN   \n",
       "1          41    event                   NaN   \n",
       "2         101    event  VloVXNWduHeTjUoDkjkO   \n",
       "3           4    event  trXmoxcphNjuYcShOXwL   \n",
       "4           3    event  uMnMdxLOIznakHyXLoMC   \n",
       "\n",
       "                                       hit_page_path event_category  \\\n",
       "0  sberauto.com/cars/all/volkswagen/polo/e994838f...           quiz   \n",
       "1  sberauto.com/cars?utm_source_initial=youtube&u...           quiz   \n",
       "2  sberauto.com/cars/all/kia/sorento/c38179cb?utm...           quiz   \n",
       "3  sberauto.com/cars/all/nissan/qashqai/bfc21661?...       card_web   \n",
       "4  sberauto.com/cars/all/skoda/rapid/bf24b977?ren...       card_web   \n",
       "\n",
       "  event_action event_label  event_value  \n",
       "0    quiz_show         NaN          NaN  \n",
       "1    quiz_show         NaN          NaN  \n",
       "2    quiz_show         NaN          NaN  \n",
       "3    view_card         NaN          NaN  \n",
       "4    view_card         NaN          NaN  "
      ]
     },
     "execution_count": 3,
     "metadata": {},
     "output_type": "execute_result"
    }
   ],
   "source": [
    "hits_df.head()"
   ]
  },
  {
   "cell_type": "code",
   "execution_count": 4,
   "id": "579c8b95-7208-4c9a-a42a-209d00f32865",
   "metadata": {},
   "outputs": [
    {
     "data": {
      "text/plain": [
       "(5242156, 11)"
      ]
     },
     "execution_count": 4,
     "metadata": {},
     "output_type": "execute_result"
    }
   ],
   "source": [
    "hits_df.shape"
   ]
  },
  {
   "cell_type": "markdown",
   "id": "c0ec0d01-40ff-43b9-9eb1-96645706acbd",
   "metadata": {},
   "source": [
    "# Разведочный анализ"
   ]
  },
  {
   "cell_type": "markdown",
   "id": "1ee46c05-05f2-41a5-8da7-33e488f0586a",
   "metadata": {},
   "source": [
    "Целевая переменная - event_action"
   ]
  },
  {
   "cell_type": "markdown",
   "id": "0a949e53-50aa-4d95-99cd-82e171bb5ef8",
   "metadata": {
    "tags": []
   },
   "source": [
    "## Обработка пропущенных значений"
   ]
  },
  {
   "cell_type": "code",
   "execution_count": 5,
   "id": "3fdac6a4-a49e-4988-9874-41590d8b76cc",
   "metadata": {},
   "outputs": [
    {
     "data": {
      "text/plain": [
       "<AxesSubplot:>"
      ]
     },
     "execution_count": 5,
     "metadata": {},
     "output_type": "execute_result"
    },
    {
     "data": {
      "image/png": "[encoded data removed]",
      "text/plain": [
       "<Figure size 1800x720 with 2 Axes>"
      ]
     },
     "metadata": {
      "needs_background": "light"
     },
     "output_type": "display_data"
    }
   ],
   "source": [
    "msno.matrix(hits_df)"
   ]
  },
  {
   "cell_type": "code",
   "execution_count": 6,
   "id": "95d8f168-beb4-455c-9a6a-4f7fa1903156",
   "metadata": {},
   "outputs": [],
   "source": [
    "hits_new = hits_df.copy()"
   ]
  },
  {
   "cell_type": "code",
   "execution_count": 7,
   "id": "f569d599-41ee-4133-9931-1ca89fb14efd",
   "metadata": {},
   "outputs": [
    {
     "data": {
      "text/plain": [
       "event    5242156\n",
       "Name: hit_type, dtype: int64"
      ]
     },
     "execution_count": 7,
     "metadata": {},
     "output_type": "execute_result"
    }
   ],
   "source": [
    "hits_new['hit_type'].value_counts()"
   ]
  },
  {
   "cell_type": "code",
   "execution_count": 8,
   "id": "945be491-cc48-4477-8dd4-c927ba853276",
   "metadata": {},
   "outputs": [],
   "source": [
    "# event_value полностью пуст, удаляем\n",
    "# все значения hit_type однинаковые, удаляем\n",
    "\n",
    "hits_new = hits_new.drop(['event_value', 'hit_type'], axis=1)"
   ]
  },
  {
   "cell_type": "code",
   "execution_count": 9,
   "id": "8c98f910-48f3-4c81-a996-6de379b89cfd",
   "metadata": {},
   "outputs": [],
   "source": [
    "# процент пропущенных значений\n",
    "def missing_values(df):\n",
    "    return ((df.isna().sum() / len(df)) * 100).sort_values()"
   ]
  },
  {
   "cell_type": "code",
   "execution_count": 10,
   "id": "2d4d078b-e56d-4c93-b6cc-7fbf3aab1373",
   "metadata": {},
   "outputs": [
    {
     "data": {
      "text/plain": [
       "session_id         0.000000\n",
       "hit_date           0.000000\n",
       "hit_number         0.000000\n",
       "hit_page_path      0.000000\n",
       "event_category     0.000000\n",
       "event_action       0.000000\n",
       "event_label       23.910334\n",
       "hit_referer       39.903162\n",
       "hit_time          58.246798\n",
       "dtype: float64"
      ]
     },
     "execution_count": 10,
     "metadata": {},
     "output_type": "execute_result"
    }
   ],
   "source": [
    "missing_values(hits_new)"
   ]
  },
  {
   "cell_type": "markdown",
   "id": "6395a7ec-397c-414d-a903-4798343b9159",
   "metadata": {
    "tags": []
   },
   "source": [
    "### Hit_time"
   ]
  },
  {
   "cell_type": "code",
   "execution_count": 11,
   "id": "9723a817-85e1-43e1-9d15-fc770044e8e5",
   "metadata": {},
   "outputs": [
    {
     "data": {
      "text/plain": [
       "(array([2.135869e+06, 4.302900e+04, 6.917000e+03, 1.893000e+03,\n",
       "        6.450000e+02, 2.230000e+02, 9.400000e+01, 4.900000e+01,\n",
       "        3.500000e+01, 1.400000e+01]),\n",
       " array([       0. ,  1315688.3,  2631376.6,  3947064.9,  5262753.2,\n",
       "         6578441.5,  7894129.8,  9209818.1, 10525506.4, 11841194.7,\n",
       "        13156883. ]),\n",
       " <BarContainer object of 10 artists>)"
      ]
     },
     "execution_count": 11,
     "metadata": {},
     "output_type": "execute_result"
    },
    {
     "data": {
      "image/png": "[encoded data removed]",
      "text/plain": [
       "<Figure size 432x288 with 1 Axes>"
      ]
     },
     "metadata": {
      "needs_background": "light"
     },
     "output_type": "display_data"
    }
   ],
   "source": [
    "plt.hist(hits_new['hit_time'])"
   ]
  },
  {
   "cell_type": "code",
   "execution_count": 12,
   "id": "748f1eb9-74df-4bcb-9882-e83df7a2a920",
   "metadata": {},
   "outputs": [
    {
     "data": {
      "text/plain": [
       "0.0          13576\n",
       "1.0           6117\n",
       "2.0           3314\n",
       "3.0           2008\n",
       "4.0           1501\n",
       "             ...  \n",
       "486903.0         1\n",
       "1153840.0        1\n",
       "1466332.0        1\n",
       "453430.0         1\n",
       "2172865.0        1\n",
       "Name: hit_time, Length: 582924, dtype: int64"
      ]
     },
     "execution_count": 12,
     "metadata": {},
     "output_type": "execute_result"
    }
   ],
   "source": [
    "hits_new['hit_time'].value_counts()"
   ]
  },
  {
   "cell_type": "code",
   "execution_count": 13,
   "id": "54e5b4a3-69a1-41a4-8e7c-dba3131233a8",
   "metadata": {},
   "outputs": [
    {
     "data": {
      "text/plain": [
       "209328.07916325532"
      ]
     },
     "execution_count": 13,
     "metadata": {},
     "output_type": "execute_result"
    }
   ],
   "source": [
    "hits_new['hit_time'].mean()"
   ]
  },
  {
   "cell_type": "code",
   "execution_count": 14,
   "id": "f38566bf-76fd-4a39-978e-d0f35dd16e3a",
   "metadata": {},
   "outputs": [],
   "source": [
    "# заполним пропуски средним значением\n",
    "hits_new['hit_time'] = hits_new['hit_time'].fillna(hits_new['hit_time'].mean())"
   ]
  },
  {
   "cell_type": "markdown",
   "id": "bacae73b-4be2-4f09-8646-3eec58f784d6",
   "metadata": {
    "tags": []
   },
   "source": [
    "### Event_label"
   ]
  },
  {
   "cell_type": "code",
   "execution_count": 15,
   "id": "19b4e9e6-87a0-4c11-bbb4-d543a9e6129c",
   "metadata": {},
   "outputs": [
    {
     "data": {
      "text/plain": [
       "KclpemfoHstknWHFiLit    2168454\n",
       "hAHqGICPFQiPwtzubOzs     428346\n",
       "OHfyUfDKdPgBdvelDlfG     208731\n",
       "pzAKUYdRKNEUXxxBFUPX     119498\n",
       "ghOrjqpgskpGHSFfBBsi     114090\n",
       "                         ...   \n",
       "aDWkTuyIexNGAQfWnDlJ          1\n",
       "zdAZMCPStPvGvEsLGpUG          1\n",
       "vArAYanGPQaroLUkrQQW          1\n",
       "eFPwPmKhDcnlAKffPvHw          1\n",
       "zCMGPrpNkfsTcYWqMUzJ          1\n",
       "Name: event_label, Length: 20173, dtype: int64"
      ]
     },
     "execution_count": 15,
     "metadata": {},
     "output_type": "execute_result"
    }
   ],
   "source": [
    "hits_new['event_label'].value_counts()"
   ]
  },
  {
   "cell_type": "code",
   "execution_count": 16,
   "id": "caf0dc96-63dd-424c-8a28-298f4baeff85",
   "metadata": {},
   "outputs": [],
   "source": [
    "# заполним пропуски модой\n",
    "hits_new['event_label'] = hits_new['event_label'].fillna(hits_new['event_label'].mode().iloc[0])"
   ]
  },
  {
   "cell_type": "markdown",
   "id": "ddadaf14-7d3f-4b36-b5af-8d22f5f2f6b5",
   "metadata": {
    "tags": []
   },
   "source": [
    "### Hit_referer "
   ]
  },
  {
   "cell_type": "code",
   "execution_count": 17,
   "id": "a1d567bc-13fc-4bd6-9577-3261943da75f",
   "metadata": {},
   "outputs": [
    {
     "data": {
      "text/plain": [
       "HbolMJUevblAbkHClEQa    2959840\n",
       "FwdMTcXzWAwhtsnMAbhS      30548\n",
       "sAGDBCdeVPmQPwkVEcIX      17729\n",
       "GQmOLxANuSeCxCanBpMl      11790\n",
       "ZeRnFrHdnMmnqraghdGJ       7672\n",
       "                         ...   \n",
       "BpAykXrUhrVvaLVxDsLI          1\n",
       "xXkCApdVuppgaAGHtBkD          1\n",
       "kGoDnujCfppPFmrbwMLF          1\n",
       "CtfEJTPRMsUzvEilqSOC          1\n",
       "tvGabHlPFDvTmIFiCKTL          1\n",
       "Name: hit_referer, Length: 23389, dtype: int64"
      ]
     },
     "execution_count": 17,
     "metadata": {},
     "output_type": "execute_result"
    }
   ],
   "source": [
    "hits_new['hit_referer'].value_counts()"
   ]
  },
  {
   "cell_type": "code",
   "execution_count": 18,
   "id": "2b6bca61-c37e-435e-940f-8010a9ff1605",
   "metadata": {},
   "outputs": [],
   "source": [
    "# заполним пропуски модой\n",
    "hits_new['hit_referer'] = hits_new['hit_referer'].fillna(hits_new['hit_referer'].mode().iloc[0])"
   ]
  },
  {
   "cell_type": "markdown",
   "id": "4d6266f2-673f-4885-818b-ef0abcbf2808",
   "metadata": {
    "tags": []
   },
   "source": [
    "### Проверка"
   ]
  },
  {
   "cell_type": "code",
   "execution_count": 19,
   "id": "0c8341e3-0d58-4d32-aeab-5f4e44970e8a",
   "metadata": {},
   "outputs": [
    {
     "data": {
      "text/plain": [
       "session_id        0.0\n",
       "hit_date          0.0\n",
       "hit_time          0.0\n",
       "hit_number        0.0\n",
       "hit_referer       0.0\n",
       "hit_page_path     0.0\n",
       "event_category    0.0\n",
       "event_action      0.0\n",
       "event_label       0.0\n",
       "dtype: float64"
      ]
     },
     "execution_count": 19,
     "metadata": {},
     "output_type": "execute_result"
    }
   ],
   "source": [
    "missing_values(hits_new)"
   ]
  },
  {
   "cell_type": "code",
   "execution_count": 22,
   "id": "87c36f1f-b2d8-4e67-89f6-b3b9cd9d62a7",
   "metadata": {},
   "outputs": [],
   "source": [
    "# сохраним получившийся датасет\n",
    "\n",
    "hits_new.to_csv('data/ga_hits(2.0).csv', index=False)"
   ]
  },
  {
   "cell_type": "markdown",
   "id": "5a27229f-fcd6-4f3d-b040-b8090c0a7490",
   "metadata": {},
   "source": [
    "## Приведение типов"
   ]
  },
  {
   "cell_type": "code",
   "execution_count": 20,
   "id": "c427d6bd-77f3-463a-b0c6-b4a5e3b8d34f",
   "metadata": {},
   "outputs": [
    {
     "data": {
      "text/plain": [
       "session_id         object\n",
       "hit_date           object\n",
       "hit_time          float64\n",
       "hit_number          int64\n",
       "hit_referer        object\n",
       "hit_page_path      object\n",
       "event_category     object\n",
       "event_action       object\n",
       "event_label        object\n",
       "dtype: object"
      ]
     },
     "execution_count": 20,
     "metadata": {},
     "output_type": "execute_result"
    }
   ],
   "source": [
    "hits_new.dtypes"
   ]
  },
  {
   "cell_type": "code",
   "execution_count": 21,
   "id": "08a55e9f-9fa1-419a-a7a8-89bdeb2efe50",
   "metadata": {},
   "outputs": [
    {
     "data": {
      "text/html": [
       "<div>\n",
       "<style scoped>\n",
       "    .dataframe tbody tr th:only-of-type {\n",
       "        vertical-align: middle;\n",
       "    }\n",
       "\n",
       "    .dataframe tbody tr th {\n",
       "        vertical-align: top;\n",
       "    }\n",
       "\n",
       "    .dataframe thead th {\n",
       "        text-align: right;\n",
       "    }\n",
       "</style>\n",
       "<table border=\"1\" class=\"dataframe\">\n",
       "  <thead>\n",
       "    <tr style=\"text-align: right;\">\n",
       "      <th></th>\n",
       "      <th>session_id</th>\n",
       "      <th>hit_date</th>\n",
       "      <th>hit_time</th>\n",
       "      <th>hit_number</th>\n",
       "      <th>hit_referer</th>\n",
       "      <th>hit_page_path</th>\n",
       "      <th>event_category</th>\n",
       "      <th>event_action</th>\n",
       "      <th>event_label</th>\n",
       "    </tr>\n",
       "  </thead>\n",
       "  <tbody>\n",
       "    <tr>\n",
       "      <th>0</th>\n",
       "      <td>885342191847998240.1640235807.1640235807</td>\n",
       "      <td>2021-12-23</td>\n",
       "      <td>796252.0</td>\n",
       "      <td>49</td>\n",
       "      <td>HbolMJUevblAbkHClEQa</td>\n",
       "      <td>sberauto.com/cars/all/volkswagen/polo/e994838f...</td>\n",
       "      <td>quiz</td>\n",
       "      <td>quiz_show</td>\n",
       "      <td>KclpemfoHstknWHFiLit</td>\n",
       "    </tr>\n",
       "    <tr>\n",
       "      <th>1</th>\n",
       "      <td>6466333295973247896.1640246168.1640246168</td>\n",
       "      <td>2021-12-23</td>\n",
       "      <td>704194.0</td>\n",
       "      <td>41</td>\n",
       "      <td>HbolMJUevblAbkHClEQa</td>\n",
       "      <td>sberauto.com/cars?utm_source_initial=youtube&amp;u...</td>\n",
       "      <td>quiz</td>\n",
       "      <td>quiz_show</td>\n",
       "      <td>KclpemfoHstknWHFiLit</td>\n",
       "    </tr>\n",
       "    <tr>\n",
       "      <th>2</th>\n",
       "      <td>555009234841130092.1640256620.1640256620</td>\n",
       "      <td>2021-12-23</td>\n",
       "      <td>1013899.0</td>\n",
       "      <td>101</td>\n",
       "      <td>VloVXNWduHeTjUoDkjkO</td>\n",
       "      <td>sberauto.com/cars/all/kia/sorento/c38179cb?utm...</td>\n",
       "      <td>quiz</td>\n",
       "      <td>quiz_show</td>\n",
       "      <td>KclpemfoHstknWHFiLit</td>\n",
       "    </tr>\n",
       "    <tr>\n",
       "      <th>3</th>\n",
       "      <td>4555345648396008371.1640233907.1640233907</td>\n",
       "      <td>2021-12-23</td>\n",
       "      <td>107.0</td>\n",
       "      <td>4</td>\n",
       "      <td>trXmoxcphNjuYcShOXwL</td>\n",
       "      <td>sberauto.com/cars/all/nissan/qashqai/bfc21661?...</td>\n",
       "      <td>card_web</td>\n",
       "      <td>view_card</td>\n",
       "      <td>KclpemfoHstknWHFiLit</td>\n",
       "    </tr>\n",
       "    <tr>\n",
       "      <th>4</th>\n",
       "      <td>9063469723165129646.1640233902.1640233902</td>\n",
       "      <td>2021-12-23</td>\n",
       "      <td>68.0</td>\n",
       "      <td>3</td>\n",
       "      <td>uMnMdxLOIznakHyXLoMC</td>\n",
       "      <td>sberauto.com/cars/all/skoda/rapid/bf24b977?ren...</td>\n",
       "      <td>card_web</td>\n",
       "      <td>view_card</td>\n",
       "      <td>KclpemfoHstknWHFiLit</td>\n",
       "    </tr>\n",
       "  </tbody>\n",
       "</table>\n",
       "</div>"
      ],
      "text/plain": [
       "                                  session_id    hit_date   hit_time  \\\n",
       "0   885342191847998240.1640235807.1640235807  2021-12-23   796252.0   \n",
       "1  6466333295973247896.1640246168.1640246168  2021-12-23   704194.0   \n",
       "2   555009234841130092.1640256620.1640256620  2021-12-23  1013899.0   \n",
       "3  4555345648396008371.1640233907.1640233907  2021-12-23      107.0   \n",
       "4  9063469723165129646.1640233902.1640233902  2021-12-23       68.0   \n",
       "\n",
       "   hit_number           hit_referer  \\\n",
       "0          49  HbolMJUevblAbkHClEQa   \n",
       "1          41  HbolMJUevblAbkHClEQa   \n",
       "2         101  VloVXNWduHeTjUoDkjkO   \n",
       "3           4  trXmoxcphNjuYcShOXwL   \n",
       "4           3  uMnMdxLOIznakHyXLoMC   \n",
       "\n",
       "                                       hit_page_path event_category  \\\n",
       "0  sberauto.com/cars/all/volkswagen/polo/e994838f...           quiz   \n",
       "1  sberauto.com/cars?utm_source_initial=youtube&u...           quiz   \n",
       "2  sberauto.com/cars/all/kia/sorento/c38179cb?utm...           quiz   \n",
       "3  sberauto.com/cars/all/nissan/qashqai/bfc21661?...       card_web   \n",
       "4  sberauto.com/cars/all/skoda/rapid/bf24b977?ren...       card_web   \n",
       "\n",
       "  event_action           event_label  \n",
       "0    quiz_show  KclpemfoHstknWHFiLit  \n",
       "1    quiz_show  KclpemfoHstknWHFiLit  \n",
       "2    quiz_show  KclpemfoHstknWHFiLit  \n",
       "3    view_card  KclpemfoHstknWHFiLit  \n",
       "4    view_card  KclpemfoHstknWHFiLit  "
      ]
     },
     "execution_count": 21,
     "metadata": {},
     "output_type": "execute_result"
    }
   ],
   "source": [
    "hits_new.head()"
   ]
  },
  {
   "cell_type": "code",
   "execution_count": null,
   "id": "1aa2e6da-e45a-4e54-8e72-5ae23aa20823",
   "metadata": {},
   "outputs": [],
   "source": []
  }
 ],
 "metadata": {
  "kernelspec": {
   "display_name": "Python 3 (ipykernel)",
   "language": "python",
   "name": "python3"
  },
  "language_info": {
   "codemirror_mode": {
    "name": "ipython",
    "version": 3
   },
   "file_extension": ".py",
   "mimetype": "text/x-python",
   "name": "python",
   "nbconvert_exporter": "python",
   "pygments_lexer": "ipython3",
   "version": "3.9.12"
  }
 },
 "nbformat": 4,
 "nbformat_minor": 5
}
